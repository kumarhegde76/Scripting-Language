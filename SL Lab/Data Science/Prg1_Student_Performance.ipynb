{
 "cells": [
  {
   "cell_type": "code",
   "execution_count": 97,
   "metadata": {},
   "outputs": [
    {
     "name": "stdout",
     "output_type": "stream",
     "text": [
      "====Understanding Info()====\n",
      "<class 'pandas.core.frame.DataFrame'>\n",
      "RangeIndex: 1000 entries, 0 to 999\n",
      "Data columns (total 8 columns):\n",
      "gender                         1000 non-null object\n",
      "race/ethnicity                 1000 non-null object\n",
      "parental level of education    774 non-null object\n",
      "lunch                          1000 non-null object\n",
      "test preparation course        1000 non-null object\n",
      "mathscore                      1000 non-null int64\n",
      "readingscore                   1000 non-null int64\n",
      "writingscore                   1000 non-null int64\n",
      "dtypes: int64(3), object(5)\n",
      "memory usage: 62.6+ KB\n",
      "\n",
      "====Understanding Info() Short Summary====\n",
      "<class 'pandas.core.frame.DataFrame'>\n",
      "RangeIndex: 1000 entries, 0 to 999\n",
      "Columns: 8 entries, gender to writingscore\n",
      "dtypes: int64(3), object(5)\n",
      "memory usage: 62.6+ KB\n",
      "\n",
      "====Understanding head()====\n",
      "\n",
      "====Understanding describe()====\n"
     ]
    },
    {
     "data": {
      "text/html": [
       "<div>\n",
       "<style>\n",
       "    .dataframe thead tr:only-child th {\n",
       "        text-align: right;\n",
       "    }\n",
       "\n",
       "    .dataframe thead th {\n",
       "        text-align: left;\n",
       "    }\n",
       "\n",
       "    .dataframe tbody tr th {\n",
       "        vertical-align: top;\n",
       "    }\n",
       "</style>\n",
       "<table border=\"1\" class=\"dataframe\">\n",
       "  <thead>\n",
       "    <tr style=\"text-align: right;\">\n",
       "      <th></th>\n",
       "      <th>mathscore</th>\n",
       "      <th>readingscore</th>\n",
       "      <th>writingscore</th>\n",
       "    </tr>\n",
       "  </thead>\n",
       "  <tbody>\n",
       "    <tr>\n",
       "      <th>count</th>\n",
       "      <td>1000.000000</td>\n",
       "      <td>1000.000000</td>\n",
       "      <td>1000.000000</td>\n",
       "    </tr>\n",
       "    <tr>\n",
       "      <th>mean</th>\n",
       "      <td>65.969000</td>\n",
       "      <td>69.169000</td>\n",
       "      <td>68.054000</td>\n",
       "    </tr>\n",
       "    <tr>\n",
       "      <th>std</th>\n",
       "      <td>15.310338</td>\n",
       "      <td>14.600192</td>\n",
       "      <td>15.195657</td>\n",
       "    </tr>\n",
       "    <tr>\n",
       "      <th>min</th>\n",
       "      <td>0.000000</td>\n",
       "      <td>17.000000</td>\n",
       "      <td>10.000000</td>\n",
       "    </tr>\n",
       "    <tr>\n",
       "      <th>25%</th>\n",
       "      <td>56.750000</td>\n",
       "      <td>59.000000</td>\n",
       "      <td>57.750000</td>\n",
       "    </tr>\n",
       "    <tr>\n",
       "      <th>50%</th>\n",
       "      <td>66.000000</td>\n",
       "      <td>70.000000</td>\n",
       "      <td>69.000000</td>\n",
       "    </tr>\n",
       "    <tr>\n",
       "      <th>75%</th>\n",
       "      <td>77.000000</td>\n",
       "      <td>79.000000</td>\n",
       "      <td>79.000000</td>\n",
       "    </tr>\n",
       "    <tr>\n",
       "      <th>max</th>\n",
       "      <td>100.000000</td>\n",
       "      <td>100.000000</td>\n",
       "      <td>100.000000</td>\n",
       "    </tr>\n",
       "  </tbody>\n",
       "</table>\n",
       "</div>"
      ],
      "text/plain": [
       "         mathscore  readingscore  writingscore\n",
       "count  1000.000000   1000.000000   1000.000000\n",
       "mean     65.969000     69.169000     68.054000\n",
       "std      15.310338     14.600192     15.195657\n",
       "min       0.000000     17.000000     10.000000\n",
       "25%      56.750000     59.000000     57.750000\n",
       "50%      66.000000     70.000000     69.000000\n",
       "75%      77.000000     79.000000     79.000000\n",
       "max     100.000000    100.000000    100.000000"
      ]
     },
     "execution_count": 97,
     "metadata": {},
     "output_type": "execute_result"
    }
   ],
   "source": [
    "'''\n",
    "***** STUDENT PERFORMANCE DATASET *****\n",
    "a)Load the ‘Student Performance’ dataset into one of the data structures (NumPy or Pandas).\n",
    "b)Display description of the loaded dataset.\n",
    "c)Display the first 15 rows \n",
    "'''\n",
    "import pandas as pd\n",
    "import matplotlib.pyplot as plt\n",
    "import numpy as np\n",
    "import seaborn as sns\n",
    "\n",
    "perf_df=pd.read_csv('StudentsPerformance.csv')\n",
    "\n",
    "\n",
    "\n",
    "print('====Understanding Info()====')\n",
    "perf_df.info()#To get a quick overview of the dataset(how many rows, attributes, data type)\n",
    "\n",
    "print('\\n====Understanding Info() Short Summary====')\n",
    "perf_df.info(verbose=False) #Gives short summary. Useful when the #of attributes is large \n",
    "\n",
    "\n",
    "\n",
    "print('\\n====Understanding describe()====')\n",
    "#Used to view basic statistical details like percentile, mean, std dev etc.of a data frame \n",
    "#or a series of numeric values.\n",
    "perf_df.describe()\n",
    "\n",
    "#NOTE: There should not be a 'print' or 'head' statement after 'describe'. It wont give output\n",
    "\n",
    "#print('\\n====Understanding head()====')\n",
    "#perf_df.head(15)\n"
   ]
  },
  {
   "cell_type": "code",
   "execution_count": 75,
   "metadata": {},
   "outputs": [
    {
     "name": "stdout",
     "output_type": "stream",
     "text": [
      "\n",
      "====Understanding Inplace False : The Copied Dataframe====\n"
     ]
    },
    {
     "data": {
      "text/html": [
       "<div>\n",
       "<style>\n",
       "    .dataframe thead tr:only-child th {\n",
       "        text-align: right;\n",
       "    }\n",
       "\n",
       "    .dataframe thead th {\n",
       "        text-align: left;\n",
       "    }\n",
       "\n",
       "    .dataframe tbody tr th {\n",
       "        vertical-align: top;\n",
       "    }\n",
       "</style>\n",
       "<table border=\"1\" class=\"dataframe\">\n",
       "  <thead>\n",
       "    <tr style=\"text-align: right;\">\n",
       "      <th></th>\n",
       "      <th>gender</th>\n",
       "      <th>race/ethnicity</th>\n",
       "      <th>parental level of education</th>\n",
       "      <th>mathscore</th>\n",
       "      <th>reading score</th>\n",
       "      <th>writing score</th>\n",
       "    </tr>\n",
       "  </thead>\n",
       "  <tbody>\n",
       "    <tr>\n",
       "      <th>0</th>\n",
       "      <td>female</td>\n",
       "      <td>group B</td>\n",
       "      <td>bachelor's degree</td>\n",
       "      <td>72</td>\n",
       "      <td>72</td>\n",
       "      <td>74</td>\n",
       "    </tr>\n",
       "    <tr>\n",
       "      <th>1</th>\n",
       "      <td>female</td>\n",
       "      <td>group C</td>\n",
       "      <td>NaN</td>\n",
       "      <td>69</td>\n",
       "      <td>90</td>\n",
       "      <td>88</td>\n",
       "    </tr>\n",
       "    <tr>\n",
       "      <th>2</th>\n",
       "      <td>female</td>\n",
       "      <td>group B</td>\n",
       "      <td>master's degree</td>\n",
       "      <td>90</td>\n",
       "      <td>95</td>\n",
       "      <td>93</td>\n",
       "    </tr>\n",
       "  </tbody>\n",
       "</table>\n",
       "</div>"
      ],
      "text/plain": [
       "   gender race/ethnicity parental level of education  mathscore  \\\n",
       "0  female        group B           bachelor's degree         72   \n",
       "1  female        group C                         NaN         69   \n",
       "2  female        group B             master's degree         90   \n",
       "\n",
       "   reading score  writing score  \n",
       "0             72             74  \n",
       "1             90             88  \n",
       "2             95             93  "
      ]
     },
     "execution_count": 75,
     "metadata": {},
     "output_type": "execute_result"
    }
   ],
   "source": [
    "'''\n",
    "c) Remove unnecessary features (E.g. drop unwanted columns) from the dataset such as \n",
    "‘lunch’ and ‘test preparation course’ .\n",
    "'''\n",
    "perf_dfCopy = perf_df.drop(['lunch', 'test preparation course'], axis=1,inplace = False)\n",
    "print('\\n====Understanding Inplace False : The Copied Dataframe====')\n",
    "perf_dfCopy.head(3)\n",
    "\n"
   ]
  },
  {
   "cell_type": "code",
   "execution_count": 61,
   "metadata": {},
   "outputs": [
    {
     "name": "stdout",
     "output_type": "stream",
     "text": [
      "\n",
      "====Understanding Implace True and False====\n"
     ]
    },
    {
     "data": {
      "text/html": [
       "<div>\n",
       "<style>\n",
       "    .dataframe thead tr:only-child th {\n",
       "        text-align: right;\n",
       "    }\n",
       "\n",
       "    .dataframe thead th {\n",
       "        text-align: left;\n",
       "    }\n",
       "\n",
       "    .dataframe tbody tr th {\n",
       "        vertical-align: top;\n",
       "    }\n",
       "</style>\n",
       "<table border=\"1\" class=\"dataframe\">\n",
       "  <thead>\n",
       "    <tr style=\"text-align: right;\">\n",
       "      <th></th>\n",
       "      <th>gender</th>\n",
       "      <th>race/ethnicity</th>\n",
       "      <th>parental level of education</th>\n",
       "      <th>lunch</th>\n",
       "      <th>test preparation course</th>\n",
       "      <th>mathscore</th>\n",
       "      <th>reading score</th>\n",
       "      <th>writing score</th>\n",
       "    </tr>\n",
       "  </thead>\n",
       "  <tbody>\n",
       "    <tr>\n",
       "      <th>0</th>\n",
       "      <td>female</td>\n",
       "      <td>group B</td>\n",
       "      <td>bachelor's degree</td>\n",
       "      <td>standard</td>\n",
       "      <td>none</td>\n",
       "      <td>72</td>\n",
       "      <td>72</td>\n",
       "      <td>74</td>\n",
       "    </tr>\n",
       "    <tr>\n",
       "      <th>1</th>\n",
       "      <td>female</td>\n",
       "      <td>group C</td>\n",
       "      <td>NaN</td>\n",
       "      <td>standard</td>\n",
       "      <td>completed</td>\n",
       "      <td>69</td>\n",
       "      <td>90</td>\n",
       "      <td>88</td>\n",
       "    </tr>\n",
       "    <tr>\n",
       "      <th>2</th>\n",
       "      <td>female</td>\n",
       "      <td>group B</td>\n",
       "      <td>master's degree</td>\n",
       "      <td>standard</td>\n",
       "      <td>none</td>\n",
       "      <td>90</td>\n",
       "      <td>95</td>\n",
       "      <td>93</td>\n",
       "    </tr>\n",
       "    <tr>\n",
       "      <th>3</th>\n",
       "      <td>male</td>\n",
       "      <td>group A</td>\n",
       "      <td>associate's degree</td>\n",
       "      <td>free/reduced</td>\n",
       "      <td>none</td>\n",
       "      <td>47</td>\n",
       "      <td>57</td>\n",
       "      <td>44</td>\n",
       "    </tr>\n",
       "    <tr>\n",
       "      <th>4</th>\n",
       "      <td>male</td>\n",
       "      <td>group C</td>\n",
       "      <td>NaN</td>\n",
       "      <td>standard</td>\n",
       "      <td>none</td>\n",
       "      <td>76</td>\n",
       "      <td>78</td>\n",
       "      <td>75</td>\n",
       "    </tr>\n",
       "  </tbody>\n",
       "</table>\n",
       "</div>"
      ],
      "text/plain": [
       "   gender race/ethnicity parental level of education         lunch  \\\n",
       "0  female        group B           bachelor's degree      standard   \n",
       "1  female        group C                         NaN      standard   \n",
       "2  female        group B             master's degree      standard   \n",
       "3    male        group A          associate's degree  free/reduced   \n",
       "4    male        group C                         NaN      standard   \n",
       "\n",
       "  test preparation course  mathscore  reading score  writing score  \n",
       "0                    none         72             72             74  \n",
       "1               completed         69             90             88  \n",
       "2                    none         90             95             93  \n",
       "3                    none         47             57             44  \n",
       "4                    none         76             78             75  "
      ]
     },
     "execution_count": 61,
     "metadata": {},
     "output_type": "execute_result"
    }
   ],
   "source": [
    "print('\\n====Understanding Inplace True and False====')\n",
    "perf_df.head(5)"
   ]
  },
  {
   "cell_type": "code",
   "execution_count": 77,
   "metadata": {},
   "outputs": [
    {
     "name": "stdout",
     "output_type": "stream",
     "text": [
      "   gender race/ethnicity parental level of education  mathscore  \\\n",
      "0  female        group B           bachelor's degree         72   \n",
      "1  female        group C              Not applicable         69   \n",
      "2  female        group B             master's degree         90   \n",
      "3    male        group A          associate's degree         47   \n",
      "4    male        group C              Not applicable         76   \n",
      "\n",
      "   reading score  writing score  \n",
      "0             72             74  \n",
      "1             90             88  \n",
      "2             95             93  \n",
      "3             57             44  \n",
      "4             78             75  \n"
     ]
    }
   ],
   "source": [
    "'''\n",
    "d) Manipulate data by replacing empty column values in ‘parental level of education’ with a default value.\n",
    "'''\n",
    "\n",
    "perf_dfCopy[\"parental level of education\"] = perf_df[\"parental level of education\"].fillna(\"Not applicable\")\n",
    "print(perf_dfCopy.head(5))"
   ]
  },
  {
   "cell_type": "code",
   "execution_count": 78,
   "metadata": {},
   "outputs": [
    {
     "name": "stdout",
     "output_type": "stream",
     "text": [
      "   gender       race/ethnicity parental level of education         lunch  \\\n",
      "0  female     African students           bachelor's degree      standard   \n",
      "1  female  Afro-Asian students              Not applicable      standard   \n",
      "2  female     African students             master's degree      standard   \n",
      "3    male       Asian students          associate's degree  free/reduced   \n",
      "4    male  Afro-Asian students              Not applicable      standard   \n",
      "5  female     African students          associate's degree      standard   \n",
      "6  female     African students              Not applicable      standard   \n",
      "7    male     African students              Not applicable  free/reduced   \n",
      "8    male    American students                 high school  free/reduced   \n",
      "9  female     African students                 high school  free/reduced   \n",
      "\n",
      "  test preparation course  mathscore  reading score  writing score  \n",
      "0                    none         72             72             74  \n",
      "1               completed         69             90             88  \n",
      "2                    none         90             95             93  \n",
      "3                    none         47             57             44  \n",
      "4                    none         76             78             75  \n",
      "5                    none         71             83             78  \n",
      "6               completed         88             95             92  \n",
      "7                    none         40             43             39  \n",
      "8               completed         64             64             67  \n",
      "9                    none         38             60             50  \n"
     ]
    }
   ],
   "source": [
    "'''\n",
    "e) Convert the attribute ‘race/ethnicity’ to have ‘groupA’ to be ‘Asian Students’, ‘groupB’ to be ‘African Students’ ,  ‘groupC’ to be ‘Afro-Asian Students’, ‘groupD’ to be ‘American Students’ and ‘groupE’ to be ‘European Students’.\n",
    "'''\n",
    "perf_df[\"race/ethnicity\"]=perf_df[\"race/ethnicity\"].map({\n",
    "    \"group A\" : \"Asian students\",\n",
    "    \"group B\" : \"African students\",\n",
    "    \"group C\" : \"Afro-Asian students\",\n",
    "    \"group D\" : \"American students\",\n",
    "    \"group E\" : \"European students\"\n",
    "})\n",
    "print(perf_df.head(10))"
   ]
  },
  {
   "cell_type": "code",
   "execution_count": 79,
   "metadata": {},
   "outputs": [
    {
     "data": {
      "image/png": "[encoded data removed]",
      "text/plain": [
       "<matplotlib.figure.Figure at 0x1a1b733cf8>"
      ]
     },
     "metadata": {},
     "output_type": "display_data"
    }
   ],
   "source": [
    "'''Perform the following visualizations on the loaded dataset:\n",
    "       i)   Tally of the Number of Male & Female students who took up the ‘test \n",
    "             preparation course’ and those who did not. \n",
    "'''\n",
    "ax = sns.countplot(x=\"test preparation course\",hue='gender',palette='Set3',data=perf_df)\n",
    "ax.set(title=\"Course completion based on gender\", xlabel='Course', ylabel='Total')\n",
    "plt.show() "
   ]
  },
  {
   "cell_type": "code",
   "execution_count": 80,
   "metadata": {},
   "outputs": [
    {
     "data": {
      "image/png": "[encoded data removed]",
      "text/plain": [
       "<matplotlib.figure.Figure at 0x117d2acf8>"
      ]
     },
     "metadata": {},
     "output_type": "display_data"
    }
   ],
   "source": [
    " '''\n",
    "    ii)  Total Number of Male & Female Students belonging to each student group \n",
    "'''\n",
    "ax = sns.countplot(x=\"race/ethnicity\",hue=\"gender\",palette=\"Set2\",data=perf_df)\n",
    "ax.set(title=\"Total number of male and female students belonging to each group\", xlabel=\"Groups\", ylabel=\"Total\")\n",
    "plt.show()"
   ]
  },
  {
   "cell_type": "code",
   "execution_count": 85,
   "metadata": {
    "collapsed": true
   },
   "outputs": [],
   "source": [
    "'''\n",
    "iii) No of students who ‘failed’(less than 40), ‘second class’(between 40 & 50).  \n",
    "         ‘first class’(between 60 & 75) and ‘distinction’(above 75) in ‘Maths’, \n",
    "         ‘Reading’ and ‘Writing’. \n",
    "'''\n",
    "interval=(0,40,50,60,75)\n",
    "categories = [\"Fail\", \"2nd class\",\"1st class\",\"Distinction\"]"
   ]
  },
  {
   "cell_type": "code",
   "execution_count": 83,
   "metadata": {},
   "outputs": [
    {
     "data": {
      "image/png": "[encoded data removed]",
      "text/plain": [
       "<matplotlib.figure.Figure at 0x10d6ac1d0>"
      ]
     },
     "metadata": {},
     "output_type": "display_data"
    }
   ],
   "source": [
    "perf_df[\"Marks_cats\"]=pd.cut(perf_df.mathscore,interval,labels=categories)\n",
    "ax=sns.countplot(x=\"Marks_cats\",hue=\"gender\",palette=\"Set1\",data=perf_df)\n",
    "ax.set(title=\"Marks categorisation for math\",xlabel=\"Categories\",ylabel=\"Number of students\")\n",
    "plt.show()"
   ]
  },
  {
   "cell_type": "code",
   "execution_count": 88,
   "metadata": {},
   "outputs": [
    {
     "data": {
      "image/png": "[encoded data removed]",
      "text/plain": [
       "<matplotlib.figure.Figure at 0x117f6b438>"
      ]
     },
     "metadata": {},
     "output_type": "display_data"
    }
   ],
   "source": [
    "perf_df[\"Marks_Cats\"]=pd.cut(perf_df.readingscore,interval,labels=categories)\n",
    "ax=sns.countplot(x=\"Marks_Cats\",hue=\"gender\",palette=\"Set1\",data=perf_df)\n",
    "ax.set(title=\"Marks categorisation for reading\",xlabel=\"Categories\",ylabel=\"Number of students\")\n",
    "plt.show()"
   ]
  },
  {
   "cell_type": "code",
   "execution_count": 89,
   "metadata": {},
   "outputs": [
    {
     "data": {
      "image/png": "[encoded data removed]",
      "text/plain": [
       "<matplotlib.figure.Figure at 0x1180884e0>"
      ]
     },
     "metadata": {},
     "output_type": "display_data"
    }
   ],
   "source": [
    "perf_df[\"Marks_Cats\"]=pd.cut(perf_df.writingscore,interval,labels=categories)\n",
    "ax=sns.countplot(x=\"Marks_Cats\",hue=\"gender\",palette=\"Set3\",data=perf_df)\n",
    "ax.set(title=\"Marks categorisation for Writing\",xlabel=\"Categories\",ylabel=\"Number of students\")\n",
    "plt.show()"
   ]
  },
  {
   "cell_type": "code",
   "execution_count": null,
   "metadata": {
    "collapsed": true
   },
   "outputs": [],
   "source": []
  }
 ],
 "metadata": {
  "kernelspec": {
   "display_name": "Python 3",
   "language": "python",
   "name": "python3"
  },
  "language_info": {
   "codemirror_mode": {
    "name": "ipython",
    "version": 3
   },
   "file_extension": ".py",
   "mimetype": "text/x-python",
   "name": "python",
   "nbconvert_exporter": "python",
   "pygments_lexer": "ipython3",
   "version": "3.6.2"
  }
 },
 "nbformat": 4,
 "nbformat_minor": 2
}
