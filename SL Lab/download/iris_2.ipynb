{
 "metadata": {
  "name": ""
 },
 "nbformat": 3,
 "nbformat_minor": 0,
 "worksheets": [
  {
   "cells": [
    {
     "cell_type": "code",
     "collapsed": false,
     "input": [
      "''' Download the iris data set and do the following:\n",
      "\n",
      "a) Display the mean sepal length of the three flower classes\n",
      "b) What is the maximum petal length?\n",
      "\n",
      "'''\n",
      "\n",
      "import pandas as pd\n",
      "from pandas import Series, DataFrame\n",
      "\n",
      "# get titanic & test csv files as a pandas DataFrame\n",
      "iris_df = pd.read_csv(\"iris.csv\")\n",
      "print(\"......Printing the IRIS DataFrame completely.....\")\n",
      "print(iris_df)\n",
      "print(\".............Printing the Info.....\")\n",
      "iris_df.info()\n",
      "print(\".............Printing using dataframe functions.....\")\n",
      "print (iris_df[[\"Class\", \"Sepal_Length\"]].groupby(\n",
      "    ['Class'], as_index=False).mean())\n",
      "\n",
      "print(\"The maximum sepal length is\",iris_df['Sepal_Length'].max())"
     ],
     "language": "python",
     "metadata": {},
     "outputs": [
      {
       "ename": "ImportError",
       "evalue": "No module named pandas",
       "output_type": "pyerr",
       "traceback": [
        "\u001b[0;31m---------------------------------------------------------------------------\u001b[0m\n\u001b[0;31mImportError\u001b[0m                               Traceback (most recent call last)",
        "\u001b[0;32m<ipython-input-1-413d0e50eb89>\u001b[0m in \u001b[0;36m<module>\u001b[0;34m()\u001b[0m\n\u001b[1;32m      6\u001b[0m '''\n\u001b[1;32m      7\u001b[0m \u001b[0;34m\u001b[0m\u001b[0m\n\u001b[0;32m----> 8\u001b[0;31m \u001b[0;32mimport\u001b[0m \u001b[0mpandas\u001b[0m \u001b[0;32mas\u001b[0m \u001b[0mpd\u001b[0m\u001b[0;34m\u001b[0m\u001b[0m\n\u001b[0m\u001b[1;32m      9\u001b[0m \u001b[0;32mfrom\u001b[0m \u001b[0mpandas\u001b[0m \u001b[0;32mimport\u001b[0m \u001b[0mSeries\u001b[0m\u001b[0;34m,\u001b[0m \u001b[0mDataFrame\u001b[0m\u001b[0;34m\u001b[0m\u001b[0m\n\u001b[1;32m     10\u001b[0m \u001b[0;34m\u001b[0m\u001b[0m\n",
        "\u001b[0;31mImportError\u001b[0m: No module named pandas"
       ]
      }
     ],
     "prompt_number": 1
    },
    {
     "cell_type": "code",
     "collapsed": false,
     "input": [],
     "language": "python",
     "metadata": {},
     "outputs": []
    }
   ],
   "metadata": {}
  }
 ]
}